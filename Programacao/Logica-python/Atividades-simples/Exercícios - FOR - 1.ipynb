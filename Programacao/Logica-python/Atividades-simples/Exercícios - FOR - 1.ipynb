{
 "cells": [
  {
   "cell_type": "markdown",
   "id": "859ad080",
   "metadata": {},
   "source": [
    "1. Faça um programa que imprima os números de 1 a 20, em sequência"
   ]
  },
  {
   "cell_type": "code",
   "execution_count": 1,
   "id": "a3c2c63e",
   "metadata": {},
   "outputs": [
    {
     "name": "stdout",
     "output_type": "stream",
     "text": [
      "1\n",
      "2\n",
      "3\n",
      "4\n",
      "5\n",
      "6\n",
      "7\n",
      "8\n",
      "9\n",
      "10\n"
     ]
    }
   ],
   "source": [
    "for _ in range(1, 11):\n",
    "    print(_)"
   ]
  },
  {
   "cell_type": "markdown",
   "id": "ca4c46c6",
   "metadata": {},
   "source": [
    "Faça um programa que imprima os números de 1 a 10, em ordem inversa"
   ]
  },
  {
   "cell_type": "code",
   "execution_count": 2,
   "id": "b0c3c058",
   "metadata": {},
   "outputs": [
    {
     "name": "stdout",
     "output_type": "stream",
     "text": [
      "10\n",
      "9\n",
      "8\n",
      "7\n",
      "6\n",
      "5\n",
      "4\n",
      "3\n",
      "2\n",
      "1\n"
     ]
    }
   ],
   "source": [
    "for i in range(10, 0, -1):\n",
    "  print(i)\n"
   ]
  },
  {
   "cell_type": "markdown",
   "id": "8238632e",
   "metadata": {},
   "source": [
    "3. Faça um programa que imprima os números pares entre 1 e 10"
   ]
  },
  {
   "cell_type": "code",
   "execution_count": 3,
   "id": "d59a6e5b",
   "metadata": {},
   "outputs": [
    {
     "name": "stdout",
     "output_type": "stream",
     "text": [
      "2\n",
      "4\n",
      "6\n",
      "8\n",
      "10\n"
     ]
    }
   ],
   "source": [
    "for i in range(2, 11, 2):\n",
    "  print(i)\n"
   ]
  },
  {
   "cell_type": "markdown",
   "id": "5bd1045b",
   "metadata": {},
   "source": [
    "4. Faça um programa que leia 10 números e imprima quantos números negativos foram lidos"
   ]
  },
  {
   "cell_type": "code",
   "execution_count": 4,
   "id": "18c02252",
   "metadata": {},
   "outputs": [
    {
     "name": "stdout",
     "output_type": "stream",
     "text": [
      "Foram lidos 0 números negativos.\n"
     ]
    }
   ],
   "source": [
    "contador = 0\n",
    "for i in range(10):\n",
    "  numero = int(input(\"Digite um número: \"))\n",
    "  if numero < 0:\n",
    "    contador += 1\n",
    "\n",
    "print(\"Foram lidos\", contador, \"números negativos.\")\n"
   ]
  },
  {
   "cell_type": "markdown",
   "id": "6b2d6524",
   "metadata": {},
   "source": [
    "5. Faça um programa que solicite ao usuário que informe um número e que mostre a soma entre 1 e o número informado."
   ]
  },
  {
   "cell_type": "code",
   "execution_count": 5,
   "id": "cb9dbb53",
   "metadata": {},
   "outputs": [
    {
     "name": "stdout",
     "output_type": "stream",
     "text": [
      "A soma de 1 até 4 é: 10\n"
     ]
    }
   ],
   "source": [
    "numero = int(input(\"Digite um número: \"))\n",
    "soma = 0\n",
    "for i in range(1, numero + 1):\n",
    "  soma += i\n",
    "print(\"A soma de 1 até\", numero, \"é:\", soma)\n"
   ]
  },
  {
   "cell_type": "markdown",
   "id": "6a1b7043",
   "metadata": {},
   "source": [
    "6. Faça um programa que leia 2 números e imprima todos os números inteiros existentes entre o menor e o maior valores lidos (inclusive)\n"
   ]
  },
  {
   "cell_type": "code",
   "execution_count": null,
   "id": "de2314a2",
   "metadata": {},
   "outputs": [],
   "source": [
    "num1 = int(input(\"Digite o primeiro número: \"))\n",
    "num2 = int(input(\"Digite o segundo número: \"))\n",
    "\n",
    "if (num1 > num2):\n",
    "  maior = num1\n",
    "  menor = num2\n",
    "else:\n",
    "  maior = num2\n",
    "  menor = num1\n",
    "\n",
    "for i in range(menor, maior+1):\n",
    "  print(i)"
   ]
  },
  {
   "cell_type": "markdown",
   "id": "29eee4cb",
   "metadata": {},
   "source": [
    "9. Faça um programa que leia um número e que imprima os números ímpares de 1 até o número informado."
   ]
  },
  {
   "cell_type": "code",
   "execution_count": 10,
   "id": "97eae0d0",
   "metadata": {},
   "outputs": [
    {
     "name": "stdout",
     "output_type": "stream",
     "text": [
      "1\n",
      "3\n"
     ]
    }
   ],
   "source": [
    "numero = int(input(\"Ecreva um número\"))\n",
    "\n",
    "for _ in range(1, numero + 1, 1):\n",
    "    if (_ % 2 != 0):\n",
    "        print(_)"
   ]
  },
  {
   "cell_type": "markdown",
   "id": "82968f77",
   "metadata": {},
   "source": [
    "10. Faça um programa que leia a idade e o sexo de 10 pessoas, e mostre quantas pessoas do sexo feminino existem entre 20 e 40 anos. Mostre também a média de idade das pessoas informadas."
   ]
  },
  {
   "cell_type": "code",
   "execution_count": null,
   "id": "aca4f8cd",
   "metadata": {},
   "outputs": [
    {
     "name": "stdout",
     "output_type": "stream",
     "text": [
      "Mulheres com 20 a 40 é: 1, e a media de idade de geral é 0.3\n"
     ]
    }
   ],
   "source": [
    "femim = 0\n",
    "media = 0\n",
    "for i in range(10):\n",
    "    idade = int(input(\"Escreva a idade da pessoa: \"))\n",
    "    media += idade\n",
    "    sexo = input(\"Eh homem ou mulher? \")\n",
    "    if (sexo == \"mulher\"):\n",
    "        if (idade > 20 and idade < 40):\n",
    "            femim += 1\n",
    "media = media / 10\n",
    "print(f\"Mulheres com 20 a 40 é: {femim}, e a media de idade de geral é {media}\")\n",
    "\n",
    "    "
   ]
  },
  {
   "cell_type": "markdown",
   "id": "96073595",
   "metadata": {},
   "source": [
    "11. Faça um programa que leia 10 temperaturas coletadas no dia 01/01/2025 na cidade de Belo Horizonte e que imprima a maior e a menor temperaturas informadas."
   ]
  },
  {
   "cell_type": "code",
   "execution_count": null,
   "id": "249ef771",
   "metadata": {},
   "outputs": [],
   "source": [
    "temperaturas = []\n",
    "\n",
    "for i in range(10):\n",
    "    temp = float(input(f\"Digite a {i+1}ª temperatura: \"))\n",
    "    temperaturas.append(temp)\n",
    "\n",
    "print(f\"Maior temperatura: {max(temperaturas)}°C\")\n",
    "print(f\"Menor temperatura: {min(temperaturas)}°C\")\n"
   ]
  },
  {
   "cell_type": "markdown",
   "id": "4e8d0bed",
   "metadata": {},
   "source": [
    "12. Faça um programa que leia um número e que calcule e imprima o fatorial deste número."
   ]
  },
  {
   "cell_type": "code",
   "execution_count": null,
   "id": "3757be4f",
   "metadata": {},
   "outputs": [],
   "source": [
    "n = int(input(\"Digite um número: \"))\n",
    "\n",
    "fatorial = 1\n",
    "for i in range(1, n + 1):\n",
    "    fatorial *= i\n",
    "\n",
    "print(f\"O fatorial de {n} é {fatorial}\")\n"
   ]
  },
  {
   "cell_type": "markdown",
   "id": "53635b61",
   "metadata": {},
   "source": [
    "13. Faça um programa que leia dois números inteiros que imprima a potência do primeiro elevado ao segundo, utilizando somente operações de multiplicação."
   ]
  },
  {
   "cell_type": "code",
   "execution_count": null,
   "id": "def62a34",
   "metadata": {},
   "outputs": [],
   "source": [
    "base = int(input(\"Digite a base: \"))\n",
    "expoente = int(input(\"Digite o expoente: \"))\n",
    "\n",
    "resultado = 1\n",
    "for _ in range(expoente):\n",
    "    resultado *= base\n",
    "\n",
    "print(f\"{base} elevado a {expoente} = {resultado}\")\n"
   ]
  },
  {
   "cell_type": "markdown",
   "id": "30632f23",
   "metadata": {},
   "source": [
    "14. Faça um programa que leia o sexo e o peso de 10 pessoas, e mostre quantas pessoas do sexo masculino possuem peso entre 60 e 80 kg, bem como a quantidade de mulheres que possuem peso entre 50 e 70 kg."
   ]
  },
  {
   "cell_type": "code",
   "execution_count": null,
   "id": "1e691377",
   "metadata": {},
   "outputs": [],
   "source": [
    "masc = 0\n",
    "fem = 0\n",
    "\n",
    "for i in range(10):\n",
    "    sexo = input(f\"Digite o sexo da {i+1}ª pessoa (M/F): \").strip().lower()\n",
    "    peso = float(input(\"Digite o peso (kg): \"))\n",
    "\n",
    "    if sexo == \"m\" and 60 <= peso <= 80:\n",
    "        masc += 1\n",
    "    elif sexo == \"f\" and 50 <= peso <= 70:\n",
    "        fem += 1\n",
    "\n",
    "print(f\"Homens com peso entre 60 e 80 kg: {masc}\")\n",
    "print(f\"Mulheres com peso entre 50 e 70 kg: {fem}\")\n"
   ]
  },
  {
   "cell_type": "markdown",
   "id": "41e35b32",
   "metadata": {},
   "source": [
    "15. Faça um programa que receba as 2 notas de 3 alunos, e para cada aluno, imprima sua média."
   ]
  },
  {
   "cell_type": "code",
   "execution_count": null,
   "id": "2f2d10fc",
   "metadata": {},
   "outputs": [],
   "source": [
    "for i in range(1, 4):\n",
    "    nota1 = float(input(f\"Digite a 1ª nota do aluno {i}: \"))\n",
    "    nota2 = float(input(f\"Digite a 2ª nota do aluno {i}: \"))\n",
    "    media = (nota1 + nota2) / 2\n",
    "    print(f\"Média do aluno {i}: {media:.2f}\")\n"
   ]
  },
  {
   "cell_type": "markdown",
   "id": "be19dc31",
   "metadata": {},
   "source": [
    "16. Faça um programa que leia as notas de 5 alunos, e que exiba a maior e menor notas entre elas."
   ]
  },
  {
   "cell_type": "code",
   "execution_count": null,
   "id": "907cd548",
   "metadata": {},
   "outputs": [],
   "source": [
    "notas = []\n",
    "\n",
    "for i in range(5):\n",
    "    nota = float(input(f\"Digite a nota do aluno {i+1}: \"))\n",
    "    notas.append(nota)\n",
    "\n",
    "print(f\"Maior nota: {max(notas)}\")\n",
    "print(f\"Menor nota: {min(notas)}\")\n"
   ]
  },
  {
   "cell_type": "markdown",
   "id": "a9aeaac1",
   "metadata": {},
   "source": [
    "17. Faça um programa que leia a idade e peso de sete pessoas. Calcule e mostre:\n",
    "\t- a quantidade de pessoas com mais de 90 kg\n",
    "\t- a média das idades das sete pessoas"
   ]
  },
  {
   "cell_type": "code",
   "execution_count": null,
   "id": "7fe8f0d2",
   "metadata": {},
   "outputs": [],
   "source": [
    "mais_90kg = 0\n",
    "soma_idades = 0\n",
    "\n",
    "for i in range(7):\n",
    "    idade = int(input(f\"Digite a idade da {i+1}ª pessoa: \"))\n",
    "    peso = float(input(\"Digite o peso (kg): \"))\n",
    "\n",
    "    soma_idades += idade\n",
    "\n",
    "    if peso > 90:\n",
    "        mais_90kg += 1\n",
    "\n",
    "media_idade = soma_idades / 7\n",
    "\n",
    "print(f\"Pessoas com mais de 90 kg: {mais_90kg}\")\n",
    "print(f\"Média das idades: {media_idade:.2f}\")\n"
   ]
  }
 ],
 "metadata": {
  "kernelspec": {
   "display_name": "Python 3",
   "language": "python",
   "name": "python3"
  },
  "language_info": {
   "codemirror_mode": {
    "name": "ipython",
    "version": 3
   },
   "file_extension": ".py",
   "mimetype": "text/x-python",
   "name": "python",
   "nbconvert_exporter": "python",
   "pygments_lexer": "ipython3",
   "version": "3.13.2"
  }
 },
 "nbformat": 4,
 "nbformat_minor": 5
}

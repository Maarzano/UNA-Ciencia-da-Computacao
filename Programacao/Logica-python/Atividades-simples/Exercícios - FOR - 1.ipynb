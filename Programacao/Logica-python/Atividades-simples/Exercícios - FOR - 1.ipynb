{
 "cells": [
  {
   "cell_type": "markdown",
   "id": "859ad080",
   "metadata": {},
   "source": [
    "1. Faça um programa que imprima os números de 1 a 20, em sequência"
   ]
  },
  {
   "cell_type": "code",
   "execution_count": 1,
   "id": "a3c2c63e",
   "metadata": {},
   "outputs": [
    {
     "name": "stdout",
     "output_type": "stream",
     "text": [
      "1\n",
      "2\n",
      "3\n",
      "4\n",
      "5\n",
      "6\n",
      "7\n",
      "8\n",
      "9\n",
      "10\n"
     ]
    }
   ],
   "source": [
    "for _ in range(1, 11):\n",
    "    print(_)"
   ]
  },
  {
   "cell_type": "markdown",
   "id": "ca4c46c6",
   "metadata": {},
   "source": [
    "Faça um programa que imprima os números de 1 a 10, em ordem inversa"
   ]
  },
  {
   "cell_type": "code",
   "execution_count": 2,
   "id": "b0c3c058",
   "metadata": {},
   "outputs": [
    {
     "name": "stdout",
     "output_type": "stream",
     "text": [
      "10\n",
      "9\n",
      "8\n",
      "7\n",
      "6\n",
      "5\n",
      "4\n",
      "3\n",
      "2\n",
      "1\n"
     ]
    }
   ],
   "source": [
    "for i in range(10, 0, -1):\n",
    "  print(i)\n"
   ]
  },
  {
   "cell_type": "markdown",
   "id": "8238632e",
   "metadata": {},
   "source": [
    "3. Faça um programa que imprima os números pares entre 1 e 10"
   ]
  },
  {
   "cell_type": "code",
   "execution_count": 3,
   "id": "d59a6e5b",
   "metadata": {},
   "outputs": [
    {
     "name": "stdout",
     "output_type": "stream",
     "text": [
      "2\n",
      "4\n",
      "6\n",
      "8\n",
      "10\n"
     ]
    }
   ],
   "source": [
    "for i in range(2, 11, 2):\n",
    "  print(i)\n"
   ]
  },
  {
   "cell_type": "markdown",
   "id": "5bd1045b",
   "metadata": {},
   "source": [
    "4. Faça um programa que leia 10 números e imprima quantos números negativos foram lidos"
   ]
  },
  {
   "cell_type": "code",
   "execution_count": 4,
   "id": "18c02252",
   "metadata": {},
   "outputs": [
    {
     "name": "stdout",
     "output_type": "stream",
     "text": [
      "Foram lidos 0 números negativos.\n"
     ]
    }
   ],
   "source": [
    "contador = 0\n",
    "for i in range(10):\n",
    "  numero = int(input(\"Digite um número: \"))\n",
    "  if numero < 0:\n",
    "    contador += 1\n",
    "\n",
    "print(\"Foram lidos\", contador, \"números negativos.\")\n"
   ]
  },
  {
   "cell_type": "markdown",
   "id": "6b2d6524",
   "metadata": {},
   "source": [
    "5. Faça um programa que solicite ao usuário que informe um número e que mostre a soma entre 1 e o número informado."
   ]
  },
  {
   "cell_type": "code",
   "execution_count": 5,
   "id": "cb9dbb53",
   "metadata": {},
   "outputs": [
    {
     "name": "stdout",
     "output_type": "stream",
     "text": [
      "A soma de 1 até 4 é: 10\n"
     ]
    }
   ],
   "source": [
    "numero = int(input(\"Digite um número: \"))\n",
    "soma = 0\n",
    "for i in range(1, numero + 1):\n",
    "  soma += i\n",
    "print(\"A soma de 1 até\", numero, \"é:\", soma)\n"
   ]
  },
  {
   "cell_type": "markdown",
   "id": "6a1b7043",
   "metadata": {},
   "source": [
    "6. Faça um programa que leia 2 números e imprima todos os números inteiros existentes entre o menor e o maior valores lidos (inclusive)\n"
   ]
  },
  {
   "cell_type": "code",
   "execution_count": null,
   "id": "de2314a2",
   "metadata": {},
   "outputs": [],
   "source": [
    "num1 = int(input(\"Digite o primeiro número: \"))\n",
    "num2 = int(input(\"Digite o segundo número: \"))\n",
    "\n",
    "if (num1 > num2):\n",
    "  maior = num1\n",
    "  menor = num2\n",
    "else:\n",
    "  maior = num2\n",
    "  menor = num1\n",
    "\n",
    "for i in range(menor, maior+1):\n",
    "  print(i)"
   ]
  }
 ],
 "metadata": {
  "kernelspec": {
   "display_name": "Python 3",
   "language": "python",
   "name": "python3"
  },
  "language_info": {
   "codemirror_mode": {
    "name": "ipython",
    "version": 3
   },
   "file_extension": ".py",
   "mimetype": "text/x-python",
   "name": "python",
   "nbconvert_exporter": "python",
   "pygments_lexer": "ipython3",
   "version": "3.13.2"
  }
 },
 "nbformat": 4,
 "nbformat_minor": 5
}

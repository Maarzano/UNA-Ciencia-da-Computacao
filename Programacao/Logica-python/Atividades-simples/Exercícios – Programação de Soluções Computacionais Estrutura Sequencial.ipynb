{
 "cells": [
  {
   "cell_type": "code",
   "execution_count": 1,
   "id": "89895757",
   "metadata": {},
   "outputs": [
    {
     "name": "stdout",
     "output_type": "stream",
     "text": [
      "Você pagou R$10.0, e vai precisar pagar 1.00 a mais pela gorjeta ao garçom\n"
     ]
    }
   ],
   "source": [
    "# 1)\n",
    "pagou = float(input(\"Escreva quanto pagou: \"))\n",
    "\n",
    "print(f\"Você pagou R${pagou}, e vai precisar pagar {pagou * 0.10:.2f} a mais pela gorjeta ao garçom\")"
   ]
  },
  {
   "cell_type": "code",
   "execution_count": 3,
   "id": "b5543d1f",
   "metadata": {},
   "outputs": [
    {
     "name": "stdout",
     "output_type": "stream",
     "text": [
      "Antecessor: 22, sucessor: 24, dobro: 46, metade: 11.5\n"
     ]
    }
   ],
   "source": [
    "#2)\n",
    "inteiro = int(input(\"Escreva um número inteiro: \"))\n",
    "\n",
    "print(f\"Antecessor: { inteiro - 1}, sucessor: {inteiro + 1}, dobro: {inteiro * 2}, metade: {inteiro / 2}\")"
   ]
  },
  {
   "cell_type": "code",
   "execution_count": null,
   "id": "c4bae5b7",
   "metadata": {},
   "outputs": [],
   "source": [
    "#3)\n",
    "horas1 = input(\"Escreva um horário separado por ':': \")\n",
    "\n",
    "hora1 = horas1.split(\":\")[0]\n",
    "minuto1 = horas1.split(\":\")[1]\n",
    "\n",
    "horas2 = input(\"Agora escreva uma outra hora, também separado por ':': \")\n",
    "\n",
    "hora2 = horas2.split(\":\")[0]\n",
    "minuto2 = horas2.split(\":\")[1]\n",
    "\n",
    "def converter_hora_para_minuto(hora):\n",
    "  return hora * 60\n",
    "\n",
    "tempo1_em_minutos = converter_hora_para_minuto(int(hora1)) + int(minuto1)\n",
    "tempo2_em_minutos = converter_hora_para_minuto(int(hora2)) + int(minuto2)\n",
    "\n",
    "diferenca = 0\n",
    "\n",
    "if tempo1_em_minutos < tempo2_em_minutos:\n",
    "  diferenca = tempo2_em_minutos - tempo1_em_minutos\n",
    "else:\n",
    "  diferenca = tempo1_em_minutos - tempo2_em_minutos\n",
    "print(f\"A diferença entre seus horários é de {diferenca}\")"
   ]
  },
  {
   "cell_type": "code",
   "execution_count": null,
   "id": "205d17f0",
   "metadata": {},
   "outputs": [],
   "source": [
    "#4)\n",
    "valor = float(input(\"Insira o valor de sua compra: \"))\n",
    "while True:\n",
    "  parcelas = int(input(\"Insira o número de parcelas que deseja (máximo 5): \"))\n",
    "  if parcelas > 5:\n",
    "    print(\"Digitou mai que 5...\")\n",
    "    continue\n",
    "  else:\n",
    "    break\n",
    "print(f\"Se você pagar a vista terá o desconto de 10%, que dará {valor / 1.1:.2f} no total\")\n",
    "print(f\"Mas pode pagar em {parcelas} parcelas que vai dar {valor / parcelas} para cada parcela\")"
   ]
  },
  {
   "cell_type": "code",
   "execution_count": null,
   "id": "f98d9c8b",
   "metadata": {},
   "outputs": [],
   "source": [
    "#5)\n",
    "\n",
    "altura_do_caboco = float(input(\"Escreva sua altura em metros \"))\n",
    "\n",
    "\n",
    "print(f\"Seu peso ideal sendo homem é {(72 * altura_do_caboco) -58:.2f}\")"
   ]
  },
  {
   "cell_type": "code",
   "execution_count": null,
   "id": "8f7f6eae",
   "metadata": {},
   "outputs": [],
   "source": [
    "#6)\n",
    "altura_da_caboca = float(input(\"Escreva sua altura em metros \"))\n",
    "\n",
    "print(f\"Seu peso ideial sendo mulher é {(62.1 * altura_da_caboca) -44.7:.2f}\")"
   ]
  },
  {
   "cell_type": "code",
   "execution_count": null,
   "id": "a176e165",
   "metadata": {},
   "outputs": [],
   "source": [
    "#7)\n",
    "\n",
    "x = input(\"Escreva algo: \")\n",
    "y = input(\"Escreva outro algo: \")\n",
    "\n",
    "x,y = y,x\n",
    "\n",
    "print(f\"x = {x}, y = {y}\")"
   ]
  },
  {
   "cell_type": "code",
   "execution_count": null,
   "id": "660838c2",
   "metadata": {},
   "outputs": [],
   "source": [
    "#8)\n",
    "\n",
    "distancia_ao_local = float(input(\"Digite a distancia até o local de destino em km: \"))\n",
    "\n",
    "consumo_medio = float(input(\"Escvreva o consumo médio de gasolina (km/l)\"))"
   ]
  }
 ],
 "metadata": {
  "kernelspec": {
   "display_name": "Python 3",
   "language": "python",
   "name": "python3"
  },
  "language_info": {
   "codemirror_mode": {
    "name": "ipython",
    "version": 3
   },
   "file_extension": ".py",
   "mimetype": "text/x-python",
   "name": "python",
   "nbconvert_exporter": "python",
   "pygments_lexer": "ipython3",
   "version": "3.13.2"
  }
 },
 "nbformat": 4,
 "nbformat_minor": 5
}

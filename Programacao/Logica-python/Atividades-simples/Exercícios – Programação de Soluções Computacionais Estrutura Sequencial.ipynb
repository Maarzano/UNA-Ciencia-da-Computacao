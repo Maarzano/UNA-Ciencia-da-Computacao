{
 "cells": [
  {
   "cell_type": "code",
   "execution_count": 1,
   "id": "89895757",
   "metadata": {},
   "outputs": [
    {
     "name": "stdout",
     "output_type": "stream",
     "text": [
      "Você pagou R$10.0, e vai precisar pagar 1.00 a mais pela gorjeta ao garçom\n"
     ]
    }
   ],
   "source": [
    "# 1)\n",
    "pagou = float(input(\"Escreva quanto pagou: \"))\n",
    "\n",
    "print(f\"Você pagou R${pagou}, e vai precisar pagar {pagou * 0.10:.2f} a mais pela gorjeta ao garçom\")"
   ]
  },
  {
   "cell_type": "code",
   "execution_count": 3,
   "id": "b5543d1f",
   "metadata": {},
   "outputs": [
    {
     "name": "stdout",
     "output_type": "stream",
     "text": [
      "Antecessor: 22, sucessor: 24, dobro: 46, metade: 11.5\n"
     ]
    }
   ],
   "source": [
    "#2)\n",
    "inteiro = int(input(\"Escreva um número inteiro: \"))\n",
    "\n",
    "print(f\"Antecessor: { inteiro - 1}, sucessor: {inteiro + 1}, dobro: {inteiro * 2}, metade: {inteiro / 2}\")"
   ]
  },
  {
   "cell_type": "code",
   "execution_count": null,
   "id": "c4bae5b7",
   "metadata": {},
   "outputs": [],
   "source": [
    "#3)\n",
    "horas1 = input(\"Escreva um horário separado por ':': \")\n",
    "\n",
    "hora1 = horas1.split(\":\")[0]\n",
    "minuto1 = horas1.split(\":\")[1]\n",
    "\n",
    "horas2 = input(\"Agora escreva uma outra hora, também separado por ':': \")\n",
    "\n",
    "hora2 = horas2.split(\":\")[0]\n",
    "minuto2 = horas2.split(\":\")[1]\n",
    "\n",
    "def converter_hora_para_minuto(hora):\n",
    "  return hora * 60\n",
    "\n",
    "tempo1_em_minutos = converter_hora_para_minuto(int(hora1)) + int(minuto1)\n",
    "tempo2_em_minutos = converter_hora_para_minuto(int(hora2)) + int(minuto2)\n",
    "\n",
    "diferenca = 0\n",
    "\n",
    "if tempo1_em_minutos < tempo2_em_minutos:\n",
    "  diferenca = tempo2_em_minutos - tempo1_em_minutos\n",
    "else:\n",
    "  diferenca = tempo1_em_minutos - tempo2_em_minutos\n",
    "print(f\"A diferença entre seus horários é de {diferenca}\")"
   ]
  },
  {
   "cell_type": "code",
   "execution_count": null,
   "id": "205d17f0",
   "metadata": {},
   "outputs": [],
   "source": [
    "#4)\n",
    "valor = float(input(\"Insira o valor de sua compra: \"))\n",
    "while True:\n",
    "  parcelas = int(input(\"Insira o número de parcelas que deseja (máximo 5): \"))\n",
    "  if parcelas > 5:\n",
    "    print(\"Digitou mai que 5...\")\n",
    "    continue\n",
    "  else:\n",
    "    break\n",
    "print(f\"Se você pagar a vista terá o desconto de 10%, que dará {valor / 1.1:.2f} no total\")\n",
    "print(f\"Mas pode pagar em {parcelas} parcelas que vai dar {valor / parcelas} para cada parcela\")"
   ]
  },
  {
   "cell_type": "code",
   "execution_count": null,
   "id": "f98d9c8b",
   "metadata": {},
   "outputs": [],
   "source": [
    "#5)\n",
    "\n",
    "altura_do_caboco = float(input(\"Escreva sua altura em metros \"))\n",
    "\n",
    "\n",
    "print(f\"Seu peso ideal sendo homem é {(72 * altura_do_caboco) -58:.2f}\")"
   ]
  },
  {
   "cell_type": "code",
   "execution_count": null,
   "id": "8f7f6eae",
   "metadata": {},
   "outputs": [],
   "source": [
    "#6)\n",
    "altura_da_caboca = float(input(\"Escreva sua altura em metros \"))\n",
    "\n",
    "print(f\"Seu peso ideial sendo mulher é {(62.1 * altura_da_caboca) -44.7:.2f}\")"
   ]
  },
  {
   "cell_type": "code",
   "execution_count": null,
   "id": "a176e165",
   "metadata": {},
   "outputs": [],
   "source": [
    "#7)\n",
    "\n",
    "x = input(\"Escreva algo: \")\n",
    "y = input(\"Escreva outro algo: \")\n",
    "\n",
    "x,y = y,x\n",
    "\n",
    "print(f\"x = {x}, y = {y}\")"
   ]
  },
  {
   "cell_type": "code",
   "execution_count": 1,
   "id": "660838c2",
   "metadata": {},
   "outputs": [
    {
     "name": "stdout",
     "output_type": "stream",
     "text": [
      "\n",
      "===== RESULTADO =====\n",
      "Custo da viagem com Gasolina: R$ 20.00\n",
      "Custo da viagem com Álcool:   R$ 20.00\n",
      "O custo é IGUAL para ambos os combustíveis.\n"
     ]
    }
   ],
   "source": [
    "#8)\n",
    "\n",
    "\n",
    "distancia_ao_local = float(input(\"Digite a distância até o local de destino (em km): \"))\n",
    "\n",
    "consumo_gasolina = float(input(\"Digite o consumo médio do veículo com gasolina (km/l): \"))\n",
    "preco_gasolina = float(input(\"Digite o preço do litro da gasolina (R$): \"))\n",
    "\n",
    "consumo_alcool = float(input(\"Digite o consumo médio do veículo com álcool (km/l): \"))\n",
    "preco_alcool = float(input(\"Digite o preço do litro do álcool (R$): \"))\n",
    "\n",
    "distancia_total = distancia_ao_local * 2\n",
    "\n",
    "litros_gasolina = distancia_total / consumo_gasolina\n",
    "litros_alcool = distancia_total / consumo_alcool\n",
    "\n",
    "custo_gasolina = litros_gasolina * preco_gasolina\n",
    "custo_alcool = litros_alcool * preco_alcool\n",
    "\n",
    "print(\"\\n===== RESULTADO =====\")\n",
    "print(f\"Custo da viagem com Gasolina: R$ {custo_gasolina:.2f}\")\n",
    "print(f\"Custo da viagem com Álcool:   R$ {custo_alcool:.2f}\")\n",
    "\n",
    "if custo_gasolina < custo_alcool:\n",
    "    print(\"Vale mais a pena usar GASOLINA.\")\n",
    "elif custo_alcool < custo_gasolina:\n",
    "    print(\"Vale mais a pena usar ÁLCOOL.\")\n",
    "else:\n",
    "    print(\"O custo é IGUAL para ambos os combustíveis.\")"
   ]
  },
  {
   "cell_type": "code",
   "execution_count": 6,
   "id": "ddb80ae3",
   "metadata": {},
   "outputs": [
    {
     "name": "stdout",
     "output_type": "stream",
     "text": [
      "\n",
      "===== RESULTADO =====\n",
      "Percentual do Candidato 1: 40.00%\n",
      "Percentual do Candidato 2: 40.00%\n",
      "Percentual de Votos Nulos: 20.00%\n"
     ]
    }
   ],
   "source": [
    "#9)\n",
    "\n",
    "\n",
    "total_eleitores = int(input(\"Digite o número total de eleitores: \"))\n",
    "votos_cand1 = int(input(\"Digite o número de votos do primeiro candidato: \"))\n",
    "votos_cand2 = int(input(\"Digite o número de votos do segundo candidato: \"))\n",
    "\n",
    "votos_nulos = total_eleitores - (votos_cand1 + votos_cand2)\n",
    "\n",
    "if total_eleitores == 0:\n",
    "    print(\"Não há eleitores cadastrados.\")\n",
    "else:\n",
    "    \n",
    "    perc_cand1 = (votos_cand1 / total_eleitores) * 100\n",
    "    perc_cand2 = (votos_cand2 / total_eleitores) * 100\n",
    "    perc_nulos = (votos_nulos / total_eleitores) * 100\n",
    "\n",
    "    print(\"\\n===== RESULTADO =====\")\n",
    "    print(f\"Percentual do Candidato 1: {perc_cand1:.2f}%\")\n",
    "    print(f\"Percentual do Candidato 2: {perc_cand2:.2f}%\")\n",
    "    print(f\"Percentual de Votos Nulos: {perc_nulos:.2f}%\")\n"
   ]
  },
  {
   "cell_type": "code",
   "execution_count": 7,
   "id": "ff08b4b9",
   "metadata": {},
   "outputs": [
    {
     "name": "stdout",
     "output_type": "stream",
     "text": [
      "\n",
      "----------\t--------------\n",
      "Produto\t\tValor\n",
      "----------\t--------------\n",
      "arroz\t\tR$ 10.00\n",
      "feijão\t\tR$ 10.00\n",
      "cavalo\t\tR$ 10000.00\n",
      "----------------------------------------\n",
      "Total da Compra: R$ 10020.00\n",
      "----------------------------------------\n",
      "Valor Pago: R$ 10.00\n",
      "Troco: R$ -10010.00\n",
      "----------------------------------------\n"
     ]
    }
   ],
   "source": [
    "#10)\n",
    "\n",
    "\n",
    "produto1 = input(\"Digite o nome do primeiro produto: \")\n",
    "valor1 = float(input(f\"Digite o preço de {produto1}: R$ \"))\n",
    "\n",
    "produto2 = input(\"Digite o nome do segundo produto: \")\n",
    "valor2 = float(input(f\"Digite o preço de {produto2}: R$ \"))\n",
    "\n",
    "produto3 = input(\"Digite o nome do terceiro produto: \")\n",
    "valor3 = float(input(f\"Digite o preço de {produto3}: R$ \"))\n",
    "\n",
    "valor_pago = float(input(\"Digite o valor pago pelo cliente: R$ \"))\n",
    "\n",
    "total = valor1 + valor2 + valor3\n",
    "troco = valor_pago - total\n",
    "\n",
    "print(\"\\n----------\\t--------------\")\n",
    "print(\"Produto\\t\\tValor\")\n",
    "print(\"----------\\t--------------\")\n",
    "print(f\"{produto1}\\t\\tR$ {valor1:.2f}\")\n",
    "print(f\"{produto2}\\t\\tR$ {valor2:.2f}\")\n",
    "print(f\"{produto3}\\t\\tR$ {valor3:.2f}\")\n",
    "print(\"----------------------------------------\")\n",
    "print(f\"Total da Compra: R$ {total:.2f}\")\n",
    "print(\"----------------------------------------\")\n",
    "print(f\"Valor Pago: R$ {valor_pago:.2f}\")\n",
    "print(f\"Troco: R$ {troco:.2f}\")\n",
    "print(\"----------------------------------------\")\n"
   ]
  }
 ],
 "metadata": {
  "kernelspec": {
   "display_name": "Python 3",
   "language": "python",
   "name": "python3"
  },
  "language_info": {
   "codemirror_mode": {
    "name": "ipython",
    "version": 3
   },
   "file_extension": ".py",
   "mimetype": "text/x-python",
   "name": "python",
   "nbconvert_exporter": "python",
   "pygments_lexer": "ipython3",
   "version": "3.13.2"
  }
 },
 "nbformat": 4,
 "nbformat_minor": 5
}

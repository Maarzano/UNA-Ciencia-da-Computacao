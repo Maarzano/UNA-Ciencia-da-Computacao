{
 "cells": [
  {
   "cell_type": "markdown",
   "id": "a1f7dc6f",
   "metadata": {},
   "source": [
    "### 1. Peça ao usuário um número. Se ele estiver entre 1 e 100 (inclusive), mostre \"Número dentro do intervalo\"."
   ]
  },
  {
   "cell_type": "code",
   "execution_count": 37,
   "id": "bcb78649",
   "metadata": {},
   "outputs": [
    {
     "name": "stdout",
     "output_type": "stream",
     "text": [
      "numero dentro do intervalo\n"
     ]
    }
   ],
   "source": [
    "numero = int(input(\"Digite um número\"))\n",
    "\n",
    "if numero > 1 and numero <= 100:\n",
    "    print(\"numero dentro do intervalo\")"
   ]
  },
  {
   "cell_type": "markdown",
   "id": "c545654d",
   "metadata": {},
   "source": [
    "### 2. Peça ao usuário um número. Se ele for menor ou igual zero, ou maior que 100, mostre \"Número fora do intervalo\"."
   ]
  },
  {
   "cell_type": "code",
   "execution_count": 38,
   "id": "eac4c319",
   "metadata": {},
   "outputs": [],
   "source": [
    "numero = int(input(\"Digite um número\"))\n",
    "\n",
    "if numero <= 0 or numero > 100:\n",
    "    print(\"Número fora do intervalo\")"
   ]
  },
  {
   "cell_type": "markdown",
   "id": "f9d327f7",
   "metadata": {},
   "source": [
    "### 3. Faça um programa que solicite um número inteiro. Mostre uma mensagem informando se o número é par ou ímpar."
   ]
  },
  {
   "cell_type": "code",
   "execution_count": 39,
   "id": "4ca25655",
   "metadata": {},
   "outputs": [
    {
     "name": "stdout",
     "output_type": "stream",
     "text": [
      "Número digitado é par\n"
     ]
    }
   ],
   "source": [
    "numero = int(input(\"Escreva um número\"))\n",
    "\n",
    "if numero % 2 == 0:\n",
    "    print(\"Número digitado é par\")\n",
    "else:\n",
    "    print(\"Numero digitado é impar\")"
   ]
  },
  {
   "cell_type": "markdown",
   "id": "a2be2b66",
   "metadata": {},
   "source": [
    "### 4. Faça um programa que receba dois números e mostre o maior e o menor. Emita uma mensagem, caso os dois sejam iguais."
   ]
  },
  {
   "cell_type": "code",
   "execution_count": 40,
   "id": "e7ac815c",
   "metadata": {},
   "outputs": [
    {
     "name": "stdout",
     "output_type": "stream",
     "text": [
      "O numero 5 é maior que 3\n"
     ]
    }
   ],
   "source": [
    "numero1 = int(input(\"Escreva o 1° número\"))\n",
    "numero2 = int(input(\"Escreva o 2° numero\"))\n",
    "\n",
    "if numero1 > numero2:\n",
    "    print(f\"O numero {numero1} é maior que {numero2}\")\n",
    "elif numero1 == numero2:\n",
    "    print(f\"Os numeros são iguais\")\n",
    "else:\n",
    "    print(f\"O numero {numero2} é maior que {numero1}\")\n",
    "    "
   ]
  },
  {
   "cell_type": "markdown",
   "id": "3857a85c",
   "metadata": {},
   "source": [
    "### 5. Faça um programa que receba as duas notas de um aluno, calcule sua média, e que imprima a sua situação:\n",
    "- media >= 7 -> Aprovado\n",
    "- media < 7 -> Reprovado\n"
   ]
  },
  {
   "cell_type": "code",
   "execution_count": 41,
   "id": "eb9cefb8",
   "metadata": {},
   "outputs": [
    {
     "name": "stdout",
     "output_type": "stream",
     "text": [
      "Reprovado\n"
     ]
    }
   ],
   "source": [
    "nota1 = float(input(\"Digite a 1° nota do aluno\"))\n",
    "nota2 = float(input(\"Digite a 2° nota do aluno\"))\n",
    "\n",
    "media = (nota1 + nota2) / 2\n",
    "\n",
    "if (media >= 7):\n",
    "    print(\"Aprovado\")\n",
    "else:\n",
    "    print(\"Reprovado\")"
   ]
  },
  {
   "cell_type": "markdown",
   "id": "ffc43c8a",
   "metadata": {},
   "source": [
    "### 6. Faça um programa que receba 3 notas de um aluno, calcule e mostre uma mensagem de acordo com sua média:"
   ]
  },
  {
   "cell_type": "code",
   "execution_count": 42,
   "id": "4917c63a",
   "metadata": {},
   "outputs": [
    {
     "name": "stdout",
     "output_type": "stream",
     "text": [
      "\n",
      "Média do aluno: 4.00\n",
      "Situação: EXAME\n"
     ]
    }
   ],
   "source": [
    "nota1 = float(input(\"Digite a 1ª nota: \"))\n",
    "nota2 = float(input(\"Digite a 2ª nota: \"))\n",
    "nota3 = float(input(\"Digite a 3ª nota: \"))\n",
    "\n",
    "media = (nota1 + nota2 + nota3) / 3\n",
    "\n",
    "print(f\"\\nMédia do aluno: {media:.2f}\")\n",
    "\n",
    "if 0 <= media < 3:\n",
    "    print(\"Situação: REPROVADO\")\n",
    "elif 3 <= media < 7:\n",
    "    print(\"Situação: EXAME\")\n",
    "elif 7 <= media <= 10:\n",
    "    print(\"Situação: APROVADO\")\n",
    "else:\n",
    "    print(\"Valor inválido! As notas devem estar entre 0 e 10.\")\n"
   ]
  },
  {
   "cell_type": "markdown",
   "id": "53d4b5d1",
   "metadata": {},
   "source": [
    "### 7. Dados três valores X,Y,Z, verificar se eles podem ser os comprimentos dos lados de um triângulo. Se eles não formarem um triângulo escrever uma mensagem. Considerar que o comprimento de cada lado de um triângulo é menor que a soma dos outros dois lados."
   ]
  },
  {
   "cell_type": "code",
   "execution_count": 43,
   "id": "fea9df56",
   "metadata": {},
   "outputs": [
    {
     "name": "stdout",
     "output_type": "stream",
     "text": [
      "Não formam um triângulo\n"
     ]
    }
   ],
   "source": [
    "x = float(input(\"Digite o valor de X: \"))\n",
    "y = float(input(\"Digite o valor de Y: \"))\n",
    "z = float(input(\"Digite o valor de Z: \"))\n",
    "\n",
    "if x < y + z and y < x + z and z < x + y:\n",
    "    print(\"Formam um triângulo\")\n",
    "else:\n",
    "    print(\"Não formam um triângulo\")"
   ]
  },
  {
   "cell_type": "markdown",
   "id": "48c25029",
   "metadata": {},
   "source": [
    "### 8. Faça um programa que leia o sexo e a altura (H - em metros) de uma pessoa, calcule e apresente seu peso ideal utilizando as seguintes fórmulas: \n",
    "\n",
    "Peso ideal (homens) = (72,7 * H) – 58.\n",
    "Peso ideal (mulheres) = (62,1 * H) – 44,7\n",
    "\n",
    "#### Sugestão: para identificar o sexo da pessoa, solicite ao usuário que informe 1 para homens, e 2 para mulheres"
   ]
  },
  {
   "cell_type": "code",
   "execution_count": 44,
   "id": "0376a1fb",
   "metadata": {},
   "outputs": [
    {
     "name": "stdout",
     "output_type": "stream",
     "text": [
      "Peso ideal: 250975.10 kg\n"
     ]
    }
   ],
   "source": [
    "sexo = int(input(\"Digite 1 para homem ou 2 para mulher: \"))\n",
    "h = float(input(\"Digite a altura em metros: \"))\n",
    "\n",
    "if sexo == 1:\n",
    "    peso_ideal = (72.7 * h) - 58\n",
    "elif sexo == 2:\n",
    "    peso_ideal = (62.1 * h) - 44.7\n",
    "else:\n",
    "    peso_ideal = None\n",
    "\n",
    "if peso_ideal is not None:\n",
    "    print(f\"Peso ideal: {peso_ideal:.2f} kg\")\n",
    "else:\n",
    "    print(\"Opção inválida\")"
   ]
  },
  {
   "cell_type": "markdown",
   "id": "6b10ca32",
   "metadata": {},
   "source": [
    "### 9. Construa um programa para determinar se o indivíduo está com um peso favorável.\n",
    "Essa situação é determinada através do IMC (Índice de Massa\n",
    "Corpórea), que é definida como sendo a relação entre o peso (PESO – em\n",
    "kg) e o quadrado da Altura (ALTURA – em m) do indivíduo. Ou seja,\n",
    "IMC= PESO/ALTURA2"
   ]
  },
  {
   "cell_type": "code",
   "execution_count": 45,
   "id": "f555ec67",
   "metadata": {},
   "outputs": [
    {
     "name": "stdout",
     "output_type": "stream",
     "text": [
      "IMC: 0.00\n",
      "Situação: Abaixo do peso\n"
     ]
    }
   ],
   "source": [
    "peso = float(input(\"Digite o peso em kg: \"))\n",
    "altura = float(input(\"Digite a altura em metros: \"))\n",
    "\n",
    "imc = peso / (altura ** 2)\n",
    "\n",
    "print(f\"IMC: {imc:.2f}\")\n",
    "\n",
    "if imc < 20:\n",
    "    print(\"Situação: Abaixo do peso\")\n",
    "elif 20 <= imc < 25:\n",
    "    print(\"Situação: Peso Normal\")\n",
    "elif 25 <= imc < 30:\n",
    "    print(\"Situação: Sobre Peso\")\n",
    "elif 30 <= imc < 40:\n",
    "    print(\"Situação: Obeso\")\n",
    "else:\n",
    "    print(\"Situação: Obeso Mórbido\")\n"
   ]
  },
  {
   "cell_type": "markdown",
   "id": "2ccb1935",
   "metadata": {},
   "source": [
    "### 10. Uma empresa decide dar aumento de 30% aos funcionários com salários inferiores a R$1000,00. Faça um programa que receba o salário do funcionário e mostre o valor do salário reajustado ou uma mensagem, caso o funcionário não tenha direito ao aumento."
   ]
  },
  {
   "cell_type": "code",
   "execution_count": 46,
   "id": "445a23c2",
   "metadata": {},
   "outputs": [
    {
     "name": "stdout",
     "output_type": "stream",
     "text": [
      "Funcionário não tem direito ao aumento\n"
     ]
    }
   ],
   "source": [
    "salario = float(input(\"Digite o salário: \"))\n",
    "\n",
    "if salario < 1000:\n",
    "    salario = salario * 1.3\n",
    "    print(f\"Salário reajustado: R${salario:.2f}\")\n",
    "else:\n",
    "    print(\"Funcionário não tem direito ao aumento\")\n"
   ]
  },
  {
   "cell_type": "markdown",
   "id": "c7cbf45c",
   "metadata": {},
   "source": [
    "### 11. Faça um programa que receba a idade de um nadador e mostre a suacategoria"
   ]
  },
  {
   "cell_type": "code",
   "execution_count": 47,
   "id": "5a430d26",
   "metadata": {},
   "outputs": [
    {
     "name": "stdout",
     "output_type": "stream",
     "text": [
      "Categoria: SENIOR\n"
     ]
    }
   ],
   "source": [
    "idade = int(input(\"Digite a idade: \"))\n",
    "\n",
    "if idade <= 7:\n",
    "    print(\"Categoria: INFANTIL\")\n",
    "elif 8 <= idade <= 10:\n",
    "    print(\"Categoria: JUVENIL\")\n",
    "elif 11 <= idade <= 15:\n",
    "    print(\"Categoria: ADOLESCENTE\")\n",
    "elif 16 <= idade <= 30:\n",
    "    print(\"Categoria: ADULTO\")\n",
    "else:\n",
    "    print(\"Categoria: SENIOR\")"
   ]
  },
  {
   "cell_type": "markdown",
   "id": "4f490f46",
   "metadata": {},
   "source": [
    "### 12. Faça um programa que leia a idade de uma pessoa e informe a sua classe eleitoral:\n",
    "- não eleitor (abaixo de 16 anos);\n",
    "- eleitor obrigatório (entre a faixa de 18 e menor de 65 anos);\n",
    "- eleitor facultativo (de 16 até 18 anos e maior de 65 anos, inclusive)"
   ]
  },
  {
   "cell_type": "code",
   "execution_count": 48,
   "id": "d54afc54",
   "metadata": {},
   "outputs": [
    {
     "name": "stdout",
     "output_type": "stream",
     "text": [
      "Classe Eleitoral: Não eleitor\n"
     ]
    }
   ],
   "source": [
    "idade = int(input(\"Digite a idade: \"))\n",
    "\n",
    "if idade < 16:\n",
    "    print(\"Classe Eleitoral: Não eleitor\")\n",
    "elif 18 <= idade < 65:\n",
    "    print(\"Classe Eleitoral: Eleitor obrigatório\")\n",
    "else:\n",
    "    print(\"Classe Eleitoral: Eleitor facultativo\")"
   ]
  },
  {
   "cell_type": "markdown",
   "id": "654ec4a8",
   "metadata": {},
   "source": [
    "### 13. Faça um programa que leia o um número inteiro entre 1 e 7 e escreva o dia da semana correspondente. Caso o usuário digite um número fora desse intervalo, deverá aparecer uma mensagem informando que não existe dia da semana com esse número."
   ]
  },
  {
   "cell_type": "code",
   "execution_count": 49,
   "id": "f4ca29a9",
   "metadata": {},
   "outputs": [
    {
     "name": "stdout",
     "output_type": "stream",
     "text": [
      "Segunda-feira\n"
     ]
    }
   ],
   "source": [
    "n = int(input(\"Digite um número entre 1 e 7: \"))\n",
    "\n",
    "if n == 1:\n",
    "    print(\"Domingo\")\n",
    "elif n == 2:\n",
    "    print(\"Segunda-feira\")\n",
    "elif n == 3:\n",
    "    print(\"Terça-feira\")\n",
    "elif n == 4:\n",
    "    print(\"Quarta-feira\")\n",
    "elif n == 5:\n",
    "    print(\"Quinta-feira\")\n",
    "elif n == 6:\n",
    "    print(\"Sexta-feira\")\n",
    "elif n == 7:\n",
    "    print(\"Sábado\")\n",
    "else:\n",
    "    print(\"Não existe dia da semana com esse número\")\n"
   ]
  },
  {
   "cell_type": "markdown",
   "id": "0fb33a2c",
   "metadata": {},
   "source": [
    "### 14. Faça um programa que leia um número inteiro entre 1 e 12 e escrever o mês correspondente. Caso o usuário digite um número fora desse intervalo, deverá aparecer uma mensagem informando que não existe mês com este número."
   ]
  },
  {
   "cell_type": "code",
   "execution_count": 50,
   "id": "d0f06ff3",
   "metadata": {},
   "outputs": [
    {
     "name": "stdout",
     "output_type": "stream",
     "text": [
      "Novembro\n"
     ]
    }
   ],
   "source": [
    "n = int(input(\"Digite um número entre 1 e 12: \"))\n",
    "\n",
    "if n == 1:\n",
    "    print(\"Janeiro\")\n",
    "elif n == 2:\n",
    "    print(\"Fevereiro\")\n",
    "elif n == 3:\n",
    "    print(\"Março\")\n",
    "elif n == 4:\n",
    "    print(\"Abril\")\n",
    "elif n == 5:\n",
    "    print(\"Maio\")\n",
    "elif n == 6:\n",
    "    print(\"Junho\")\n",
    "elif n == 7:\n",
    "    print(\"Julho\")\n",
    "elif n == 8:\n",
    "    print(\"Agosto\")\n",
    "elif n == 9:\n",
    "    print(\"Setembro\")\n",
    "elif n == 10:\n",
    "    print(\"Outubro\")\n",
    "elif n == 11:\n",
    "    print(\"Novembro\")\n",
    "elif n == 12:\n",
    "    print(\"Dezembro\")\n",
    "else:\n",
    "    print(\"Não existe mês com esse número\")"
   ]
  }
 ],
 "metadata": {
  "kernelspec": {
   "display_name": "Python 3",
   "language": "python",
   "name": "python3"
  },
  "language_info": {
   "codemirror_mode": {
    "name": "ipython",
    "version": 3
   },
   "file_extension": ".py",
   "mimetype": "text/x-python",
   "name": "python",
   "nbconvert_exporter": "python",
   "pygments_lexer": "ipython3",
   "version": "3.13.2"
  }
 },
 "nbformat": 4,
 "nbformat_minor": 5
}
